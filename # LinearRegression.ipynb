{
 "cells": [
  {
   "attachments": {},
   "cell_type": "markdown",
   "metadata": {},
   "source": [
    "# Linear Regression with Python"
   ]
  },
  {
   "attachments": {},
   "cell_type": "markdown",
   "metadata": {},
   "source": [
    "Our goal with linear regression is to minimize the vertical distance between all the data points and our line.\n",
    "So in determining the best line, we are attempting to minimize the distance between all the points and their distance to our line.\n",
    "<br>We’ll use the <b>Least Squares Method</b>, which is fitted by <b>minimizing the sum of squares of the residuals</b>.\n",
    "The residuals for observation are the difference between the observation (the y-value) and the fitted line.\n",
    "<br><b>We’ll use SciKit-Learn and Python to create a linear regression model.</b>"
   ]
  },
  {
   "cell_type": "markdown",
   "metadata": {},
   "source": []
  }
 ],
 "metadata": {
  "kernelspec": {
   "display_name": "Python 3",
   "language": "python",
   "name": "python3"
  },
  "language_info": {
   "name": "python",
   "version": "3.11.1 (tags/v3.11.1:a7a450f, Dec  6 2022, 19:58:39) [MSC v.1934 64 bit (AMD64)]"
  },
  "orig_nbformat": 4,
  "vscode": {
   "interpreter": {
    "hash": "5aed98006f88b9e30338f09d63586ce901b99d0a83dd4c6ba4432187037e5c67"
   }
  }
 },
 "nbformat": 4,
 "nbformat_minor": 2
}
